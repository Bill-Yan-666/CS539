{
  "nbformat": 4,
  "nbformat_minor": 0,
  "metadata": {
    "colab": {
      "name": "Linear_Interp.ipynb",
      "provenance": [],
      "collapsed_sections": []
    },
    "kernelspec": {
      "name": "python3",
      "display_name": "Python 3"
    },
    "language_info": {
      "name": "python"
    }
  },
  "cells": [
    {
      "cell_type": "code",
      "source": [
        "from google.colab import drive\n",
        "\n",
        "drive.mount(\"/content/drive\")"
      ],
      "metadata": {
        "colab": {
          "base_uri": "https://localhost:8080/"
        },
        "id": "x2FYD8FHgy65",
        "outputId": "edbfa205-f748-4ced-9c3a-cc7858691b16"
      },
      "execution_count": 3,
      "outputs": [
        {
          "output_type": "stream",
          "name": "stdout",
          "text": [
            "Mounted at /content/drive\n"
          ]
        }
      ]
    },
    {
      "cell_type": "code",
      "source": [
        "import numpy as np\n",
        "import pandas as pd\n",
        "from sklearn.model_selection import train_test_split"
      ],
      "metadata": {
        "id": "8mFlCAJ9ugy2"
      },
      "execution_count": 2,
      "outputs": []
    },
    {
      "cell_type": "code",
      "source": [
        "def predict(X_train, P, T):\n",
        "  # Interpolate once to arrive at the correct P\n",
        "  P_lower, P_upper = find_bounds(X_train, 0, P)\n",
        "  P_data = interpolate(P_lower, P_upper, P, 0, 1)\n",
        "  \n",
        "  # Second interpolation to arrive at both correct P and T\n",
        "  T_lower, T_upper = find_bounds(P_data, 1, T)\n",
        "  properties = interpolate(T_lower, T_upper, T, 1, 0)\n",
        "\n",
        "  # Return\n",
        "  return properties[0]\n",
        "\n",
        "def find_bounds(data, index, value):\n",
        "  # Three cases, value is smaller than all of the values in the index column, \n",
        "  # value is contained by a pair of values in the index column, \n",
        "  # or value is greater than or equal to all the values in the index column\n",
        "  unique_values = np.unique(data[:, index])\n",
        "  unique_values = np.sort(unique_values)\n",
        "\n",
        "  # if the value is less than or equal to the smallest value in the column, \n",
        "  # return all the entries with the smallest first two values\n",
        "  if value <= unique_values[0]:\n",
        "    lower = data[data[:, index] == unique_values[0]]\n",
        "    upper = data[data[:, index] == unique_values[1]]\n",
        "  elif value >= unique_values[-2]:\n",
        "    lower = data[data[:, index] == unique_values[-2]]\n",
        "    upper = data[data[:, index] == unique_values[-1]]\n",
        "  else:\n",
        "    for i in range(len(unique_values)):\n",
        "      if value < unique_values[i]:\n",
        "        lower = data[data[:, index] == unique_values[i-1]]\n",
        "        upper = data[data[:, index] == unique_values[i]]\n",
        "        break\n",
        "\n",
        "  return lower, upper\n",
        "\n",
        "def interpolate(lower, upper, value, value_index, keep_index):\n",
        "  # Determine the set of keep values lower and upper share in common\n",
        "  _, lower_index, upper_index = np.intersect1d(lower[:, keep_index], upper[:, keep_index], return_indices=True)\n",
        "\n",
        "  # Iterate through all the shared values\n",
        "  result = []\n",
        "  for i in range(len(lower_index)):\n",
        "    l_i = lower_index[i]\n",
        "    u_i = upper_index[i]\n",
        "    \n",
        "    interp_entry = (value - lower[l_i, value_index]) / (upper[u_i, value_index] - lower[l_i, value_index]) * (upper[u_i, :] - lower[l_i, :]) + lower[l_i, :]\n",
        "    result.append(interp_entry)\n",
        "  \n",
        "  # Return\n",
        "  return np.array(result)\n",
        "\n",
        "# Import data\n",
        "data = pd.read_csv(\"drive/My Drive/H2O_Super.csv\")\n",
        "X_train, X_test = train_test_split(data.values, train_size=0.8, random_state=1)\n",
        "print(predict(X_train, 0.03, 100))"
      ],
      "metadata": {
        "id": "Git8cbLI1x_k",
        "colab": {
          "base_uri": "https://localhost:8080/"
        },
        "outputId": "8189041b-8be7-4a53-b4a2-f937b8ed5b94"
      },
      "execution_count": 6,
      "outputs": [
        {
          "output_type": "stream",
          "name": "stdout",
          "text": [
            "[3.000000e-02 1.000000e+02 1.033475e+01 2.488700e+03 2.660650e+03\n",
            " 8.312000e+00]\n"
          ]
        }
      ]
    }
  ]
}