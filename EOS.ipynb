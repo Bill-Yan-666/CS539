{
  "nbformat": 4,
  "nbformat_minor": 0,
  "metadata": {
    "colab": {
      "name": "EOS.ipynb",
      "provenance": [],
      "collapsed_sections": []
    },
    "kernelspec": {
      "name": "python3",
      "display_name": "Python 3"
    },
    "language_info": {
      "name": "python"
    }
  },
  "cells": [
    {
      "cell_type": "code",
      "source": [
        "from google.colab import drive\n",
        "\n",
        "drive.mount(\"/content/drive\")"
      ],
      "metadata": {
        "colab": {
          "base_uri": "https://localhost:8080/"
        },
        "id": "x2FYD8FHgy65",
        "outputId": "bdee9a6d-a464-43fc-9b81-f0f0d4ebc5bd"
      },
      "execution_count": null,
      "outputs": [
        {
          "output_type": "stream",
          "name": "stdout",
          "text": [
            "Mounted at /content/drive\n"
          ]
        }
      ]
    },
    {
      "cell_type": "code",
      "source": [
        "import numpy as np"
      ],
      "metadata": {
        "id": "sVB6xdBZ7CZZ"
      },
      "execution_count": 2,
      "outputs": []
    },
    {
      "cell_type": "code",
      "source": [
        "# Define reference state in J, mol, K, Pa\n",
        "P_ref = 0.01 * 10**6\n",
        "T_ref = 45 + 273\n",
        "V_ref = 14.67 * 0.018\n",
        "U_ref = 2437.2 * 18\n",
        "H_ref = 2583.9 * 18\n",
        "S_ref = 8.149 * 18\n",
        "\n",
        "# Parameters for EOS\n",
        "Cp = 1.996 * 18\n",
        "Tc = 647.3\n",
        "Pc = 22.09 * 10**6\n",
        "a = 27/64 * 8.314**2 * Tc**2 / Pc\n",
        "b = 1/8 * 8.314 * Tc / Pc\n",
        "\n",
        "def predict(P, T):\n",
        "  # Define starting quantities\n",
        "  P_cal = P_ref\n",
        "  T_cal = T_ref\n",
        "  V_cal = V_ref\n",
        "  U_cal = U_ref\n",
        "  H_cal = H_ref\n",
        "  S_cal = S_ref\n",
        "\n",
        "  # Convert P to Pascal, and T to Kelvin\n",
        "  P = P * 10**6\n",
        "  T = T + 273\n",
        "\n",
        "  # Integrate with respect to pressure using rectangular method\n",
        "  points = np.linspace(P_cal, P, 10**5, False)\n",
        "  dP = points[1] - points[0]\n",
        "  for i in range(len(points)):\n",
        "    P = points[i]\n",
        "    dVdP = V_cal**2 * (b - V_cal) / (3*P*V_cal**2 + a - 2*b*P*V_cal - 2*8.314*T_cal*V_cal)\n",
        "    dVdT = 8.314*V_cal**2 / (3*P*V_cal**2 + a - 2*b*P*V_cal - 2*8.314*T_cal*V_cal)\n",
        "    V_next = V_cal + dVdP * dP\n",
        "    H_next = H_cal + (-T_cal * dVdT + V_cal) * dP\n",
        "    S_next = S_cal + (-dVdT) * dP\n",
        "\n",
        "    V_cal = V_next\n",
        "    H_cal = H_next\n",
        "    S_cal = S_next\n",
        "\n",
        "  P_cal = points[-1] + dP\n",
        "  U_cal = H_cal - (P_cal * V_cal)\n",
        "\n",
        "  # Integrate with respect to temperature using rectangular method\n",
        "  points = np.linspace(T_cal, T, 10**5, False)\n",
        "  dT = points[1] - points[0]\n",
        "  for i in range(len(points)):\n",
        "    T = points[i]\n",
        "    dVdT = 8.314*V_cal**2 / (3*P_cal*V_cal**2 + a - 2*b*P_cal*V_cal - 2*8.314*T*V_cal)\n",
        "    V_next = V_cal + dVdT * dT\n",
        "    H_next = H_cal + Cp * dT\n",
        "    S_next = S_cal + (Cp / T) * dT\n",
        "\n",
        "    V_cal = V_next\n",
        "    H_cal = H_next\n",
        "    S_cal = S_next\n",
        "    \n",
        "  T_cal = points[-1] + dT\n",
        "  U_cal = H_cal - (P_cal * V_cal)\n",
        "\n",
        "  # Convert back to kJ, kg, C, MPa\n",
        "  P_cal = P_cal / 10**6\n",
        "  T_cal = T_cal - 273\n",
        "  V_cal = V_cal / 0.018\n",
        "  U_cal = U_cal / 18\n",
        "  H_cal = H_cal / 18\n",
        "  S_cal = S_cal / 18\n",
        "\n",
        "  return np.array([P_cal, T_cal, V_cal, U_cal, H_cal, S_cal])\n",
        "\n",
        "print(predict(0.03, 100))"
      ],
      "metadata": {
        "id": "Git8cbLI1x_k",
        "colab": {
          "base_uri": "https://localhost:8080/"
        },
        "outputId": "8e6f0362-dabf-43a4-9725-1e167449050f"
      },
      "execution_count": 5,
      "outputs": [
        {
          "output_type": "stream",
          "name": "stdout",
          "text": [
            "[3.00000000e-02 1.00000000e+02 5.71652173e+00 2.52075088e+03\n",
            " 2.69224653e+03 7.95713408e+00]\n"
          ]
        }
      ]
    }
  ]
}